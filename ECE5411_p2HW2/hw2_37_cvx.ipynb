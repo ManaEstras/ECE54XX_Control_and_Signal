{
 "cells": [
  {
   "cell_type": "code",
   "execution_count": 41,
   "metadata": {},
   "outputs": [
    {
     "name": "stdout",
     "output_type": "stream",
     "text": [
      "theta1,2 mean & variance\n",
      "1.23339878479 0.00111822938075\n",
      "-0.285613893549 0.00115422794762\n",
      "bias\n",
      "4.30675388464e-05\n"
     ]
    }
   ],
   "source": [
    "from cvxpy import *\n",
    "import numpy as np\n",
    "import random\n",
    "#Classic LS\n",
    "\n",
    "N = 1000;\n",
    "theta = [1.23,-0.28];\n",
    "thetahat1 = [];\n",
    "thetahat2 = [];\n",
    "for i in range(100):\n",
    "    y = np.ones([1,N+2]);\n",
    "    Fi = np.ones([N,2]);\n",
    "\n",
    "#Data Prepartion\n",
    "    for ind in range(2,N+1):\n",
    "        y[:,ind] =y[:,ind-1] * theta[0] + y[:,ind-2] * theta[1] + random.gauss(0, 5);\n",
    "        Fi[ind-2,:] = [y[:,ind-1], y[:,ind-2]];\n",
    "    \n",
    "    Y = y[:,2:].reshape([1000,1])\n",
    "\n",
    "    alpha = 0.1;\n",
    "    lam = 0.1;\n",
    "\n",
    "    thetahat = Variable(2)\n",
    "    objective = Minimize(sum_squares(Fi*thetahat - Y))\n",
    "    constraints = []\n",
    "    prob = Problem(objective, constraints)\n",
    "    result = prob.solve()\n",
    "    thetahat1.append(thetahat.value[0])\n",
    "    thetahat2.append(thetahat.value[1])\n",
    "print 'theta1,2 mean & variance'\n",
    "print np.mean(thetahat1),np.var(thetahat1)\n",
    "print np.mean(thetahat2),np.var(thetahat2)\n",
    "print 'bias'\n",
    "print (np.mean(thetahat1)-theta[0])*(np.mean(thetahat1)-theta[0])+(np.mean(thetahat2)-theta[1])*(np.mean(thetahat2)-theta[1])"
   ]
  },
  {
   "cell_type": "code",
   "execution_count": 36,
   "metadata": {},
   "outputs": [
    {
     "name": "stdout",
     "output_type": "stream",
     "text": [
      "theta1,2 mean & variance\n",
      "1.22449348428 0.00113181529436\n",
      "-0.276435772746 0.00110745814986\n",
      "bias\n",
      "4.30254312826e-05\n"
     ]
    }
   ],
   "source": [
    "#Elastic-Net criterion\n",
    "N = 1000;\n",
    "theta = [1.23,-0.28];\n",
    "thetahat1 = [];\n",
    "thetahat2 = [];\n",
    "for i in range(100):\n",
    "    y = np.ones([1,N+2]);\n",
    "    Fi = np.ones([N,2]);\n",
    "\n",
    "#Data Prepartion\n",
    "    for ind in range(2,N+1):\n",
    "        y[:,ind] =y[:,ind-1] * theta[0] + y[:,ind-2] * theta[1] + random.gauss(0, 5);\n",
    "        Fi[ind-2,:] = [y[:,ind-1], y[:,ind-2]];\n",
    "    \n",
    "    Y = y[:,2:].reshape([1000,1])\n",
    "\n",
    "    alpha = 0.5;\n",
    "    lam = 0.5;\n",
    "\n",
    "    thetahat = Variable(2)\n",
    "    objective = Minimize(sum_squares(Fi*thetahat - Y) + lam * (alpha * norm(thetahat,1) +(1-alpha)*norm(thetahat,2)))\n",
    "    constraints = []\n",
    "    prob = Problem(objective, constraints)\n",
    "    result = prob.solve()\n",
    "    thetahat1.append(thetahat.value[0])\n",
    "    thetahat2.append(thetahat.value[1])\n",
    "print 'theta1,2 mean & variance'\n",
    "print np.mean(thetahat1),np.var(thetahat1)\n",
    "print np.mean(thetahat2),np.var(thetahat2)\n",
    "print 'bias'\n",
    "print (np.mean(thetahat1)-theta[0])*(np.mean(thetahat1)-theta[0])+(np.mean(thetahat2)-theta[1])*(np.mean(thetahat2)-theta[1])\n",
    "\n"
   ]
  },
  {
   "cell_type": "code",
   "execution_count": 37,
   "metadata": {},
   "outputs": [
    {
     "name": "stdout",
     "output_type": "stream",
     "text": [
      "theta1,2 mean & variance\n",
      "1.22552029683 0.000951787408345\n",
      "-0.276381821948 0.00106027239665\n",
      "bias\n",
      "3.31589529443e-05\n"
     ]
    }
   ],
   "source": [
    "#LASSO\n",
    "\n",
    "import numpy as np\n",
    "import random\n",
    "\n",
    "#Elastic-Net criterion\n",
    "N = 1000;\n",
    "theta = [1.23,-0.28];\n",
    "thetahat1 = [];\n",
    "thetahat2 = [];\n",
    "for i in range(100):\n",
    "    y = np.ones([1,N+2]);\n",
    "    Fi = np.ones([N,2]);\n",
    "\n",
    "#Data Prepartion\n",
    "    for ind in range(2,N+1):\n",
    "        y[:,ind] =y[:,ind-1] * theta[0] + y[:,ind-2] * theta[1] + random.gauss(0, 5);\n",
    "        Fi[ind-2,:] = [y[:,ind-1], y[:,ind-2]];\n",
    "    \n",
    "    Y = y[:,2:].reshape([1000,1])\n",
    "\n",
    "    alpha = 1;\n",
    "    lam = 5;\n",
    "\n",
    "    thetahat = Variable(2)\n",
    "    objective = Minimize(sum_squares(Fi*thetahat - Y) + lam * (alpha * norm(thetahat,1) +(1-alpha)*norm(thetahat,2)))\n",
    "    constraints = []\n",
    "    prob = Problem(objective, constraints)\n",
    "    result = prob.solve()\n",
    "    thetahat1.append(thetahat.value[0])\n",
    "    thetahat2.append(thetahat.value[1])\n",
    "print 'theta1,2 mean & variance'\n",
    "print np.mean(thetahat1),np.var(thetahat1)\n",
    "print np.mean(thetahat2),np.var(thetahat2)\n",
    "print 'bias'\n",
    "print (np.mean(thetahat1)-theta[0])*(np.mean(thetahat1)-theta[0])+(np.mean(thetahat2)-theta[1])*(np.mean(thetahat2)-theta[1])\n",
    "\n"
   ]
  },
  {
   "cell_type": "code",
   "execution_count": 38,
   "metadata": {},
   "outputs": [
    {
     "name": "stdout",
     "output_type": "stream",
     "text": [
      "theta1,2 mean & variance\n",
      "1.22951379552 0.000911149278961\n",
      "-0.280787205201 0.000893086012409\n",
      "bias\n",
      "8.56086825854e-07\n"
     ]
    }
   ],
   "source": [
    "#Rigid\n",
    "import numpy as np\n",
    "import random\n",
    "\n",
    "#Elastic-Net criterion\n",
    "N = 1000;\n",
    "theta = [1.23,-0.28];\n",
    "thetahat1 = [];\n",
    "thetahat2 = [];\n",
    "for i in range(100):\n",
    "    y = np.ones([1,N+2]);\n",
    "    Fi = np.ones([N,2]);\n",
    "\n",
    "#Data Prepartion\n",
    "    for ind in range(2,N+1):\n",
    "        y[:,ind] =y[:,ind-1] * theta[0] + y[:,ind-2] * theta[1] + random.gauss(0, 5);\n",
    "        Fi[ind-2,:] = [y[:,ind-1], y[:,ind-2]];\n",
    "    \n",
    "    Y = y[:,2:].reshape([1000,1])\n",
    "\n",
    "    alpha = 0;\n",
    "    lam = 0.5;\n",
    "\n",
    "    thetahat = Variable(2)\n",
    "    objective = Minimize(sum_squares(Fi*thetahat - Y) + lam * (alpha * norm(thetahat,1) +(1-alpha)*norm(thetahat,2)))\n",
    "    constraints = []\n",
    "    prob = Problem(objective, constraints)\n",
    "    result = prob.solve()\n",
    "    thetahat1.append(thetahat.value[0])\n",
    "    thetahat2.append(thetahat.value[1])\n",
    "print 'theta1,2 mean & variance'\n",
    "print np.mean(thetahat1),np.var(thetahat1)\n",
    "print np.mean(thetahat2),np.var(thetahat2)\n",
    "print 'bias'\n",
    "print (np.mean(thetahat1)-theta[0])*(np.mean(thetahat1)-theta[0])+(np.mean(thetahat2)-theta[1])*(np.mean(thetahat2)-theta[1])"
   ]
  },
  {
   "cell_type": "code",
   "execution_count": 1,
   "metadata": {
    "collapsed": true
   },
   "outputs": [],
   "source": [
    "from cvxpy import *"
   ]
  },
  {
   "cell_type": "code",
   "execution_count": 15,
   "metadata": {},
   "outputs": [
    {
     "data": {
      "text/plain": [
       "matrix([[ 1.29361781],\n",
       "        [-0.3447806 ]])"
      ]
     },
     "execution_count": 15,
     "metadata": {},
     "output_type": "execute_result"
    }
   ],
   "source": [
    "thetahat.value"
   ]
  },
  {
   "cell_type": "code",
   "execution_count": 23,
   "metadata": {},
   "outputs": [
    {
     "data": {
      "text/plain": [
       "0.00097177417926705423"
      ]
     },
     "execution_count": 23,
     "metadata": {},
     "output_type": "execute_result"
    }
   ],
   "source": [
    "np.mean(thetahat1)\n",
    "np.var(thetahat1)"
   ]
  },
  {
   "cell_type": "code",
   "execution_count": null,
   "metadata": {
    "collapsed": true
   },
   "outputs": [],
   "source": []
  }
 ],
 "metadata": {
  "kernelspec": {
   "display_name": "Python 2",
   "language": "python",
   "name": "python2"
  },
  "language_info": {
   "codemirror_mode": {
    "name": "ipython",
    "version": 2
   },
   "file_extension": ".py",
   "mimetype": "text/x-python",
   "name": "python",
   "nbconvert_exporter": "python",
   "pygments_lexer": "ipython2",
   "version": "2.7.13"
  }
 },
 "nbformat": 4,
 "nbformat_minor": 2
}
