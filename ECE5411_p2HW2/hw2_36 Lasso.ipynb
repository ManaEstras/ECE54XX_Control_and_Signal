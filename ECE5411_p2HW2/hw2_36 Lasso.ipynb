{
 "cells": [
  {
   "cell_type": "code",
   "execution_count": 1,
   "metadata": {
    "collapsed": true
   },
   "outputs": [],
   "source": [
    "import numpy as np\n",
    "import pandas as pd\n",
    "import seaborn as sb\n",
    "import matplotlib.pyplot as plt\n",
    "import sklearn\n",
    "import random\n",
    "\n",
    "from pandas import Series, DataFrame\n",
    "from sklearn import linear_model\n"
   ]
  },
  {
   "cell_type": "code",
   "execution_count": 2,
   "metadata": {
    "collapsed": true
   },
   "outputs": [],
   "source": [
    "## Data Pre\n",
    "N = 1000;\n",
    "theta = [1.23,-0.28];\n",
    "y = np.ones([1,N+2]);\n",
    "Fi = np.ones([N,2]);\n",
    "\n",
    "#Data Prepartion\n",
    "for ind in range(2,N+1):\n",
    "    y[:,ind] =y[:,ind-1] * theta[0] + y[:,ind-2] * theta[1] + random.gauss(0, 1);\n",
    "    Fi[ind-2,:] = [y[:,ind-1], y[:,ind-2]];\n",
    "    \n",
    "Y = y[:,2:].reshape([1000,1])"
   ]
  },
  {
   "cell_type": "code",
   "execution_count": 24,
   "metadata": {},
   "outputs": [
    {
     "name": "stdout",
     "output_type": "stream",
     "text": [
      "[ 1.15648423 -0.20464192]\n",
      "[ 0.00674133]\n",
      "66\n"
     ]
    }
   ],
   "source": [
    "clf = linear_model.Lasso(alpha=0.05)\n",
    "clf.fit(Fi, Y)\n",
    "print(clf.coef_)\n",
    "print(clf.intercept_)\n",
    "print clf.n_iter_"
   ]
  },
  {
   "cell_type": "code",
   "execution_count": 26,
   "metadata": {},
   "outputs": [
    {
     "name": "stdout",
     "output_type": "stream",
     "text": [
      "[ 0.92870644  0.        ]\n",
      "[ 0.00994671]\n",
      "2\n"
     ]
    }
   ],
   "source": [
    "clf = linear_model.Lasso(alpha=0.5)\n",
    "clf.fit(Fi, Y)\n",
    "print(clf.coef_)\n",
    "print(clf.intercept_)\n",
    "print clf.n_iter_"
   ]
  },
  {
   "cell_type": "code",
   "execution_count": 31,
   "metadata": {},
   "outputs": [
    {
     "name": "stdout",
     "output_type": "stream",
     "text": [
      "[[ 1.25003334 -0.29827304]]\n",
      "[ 0.00626692]\n",
      "None\n"
     ]
    }
   ],
   "source": [
    "clf = linear_model.Ridge(alpha=0.5)\n",
    "clf.fit(Fi, Y)\n",
    "print(clf.coef_)\n",
    "print(clf.intercept_)\n",
    "print clf.n_iter_"
   ]
  },
  {
   "cell_type": "code",
   "execution_count": 43,
   "metadata": {},
   "outputs": [
    {
     "name": "stdout",
     "output_type": "stream",
     "text": [
      "3.70807738003\n"
     ]
    }
   ],
   "source": [
    "ystd = np.std(Y)"
   ]
  },
  {
   "cell_type": "markdown",
   "metadata": {},
   "source": [
    "## Square Lasso"
   ]
  },
  {
   "cell_type": "code",
   "execution_count": 36,
   "metadata": {},
   "outputs": [
    {
     "name": "stdout",
     "output_type": "stream",
     "text": [
      "[ 0.83173307  0.        ]\n",
      "[ 0.01896607]\n",
      "2\n"
     ]
    }
   ],
   "source": [
    "ystd = np.std(Y)\n",
    "clf = linear_model.Lasso(alpha=0.5 * ystd)\n",
    "clf.fit(Fi, Y)\n",
    "print(clf.coef_)\n",
    "print(clf.intercept_)\n",
    "print clf.n_iter_"
   ]
  },
  {
   "cell_type": "code",
   "execution_count": null,
   "metadata": {
    "collapsed": true
   },
   "outputs": [],
   "source": []
  }
 ],
 "metadata": {
  "kernelspec": {
   "display_name": "Python 2",
   "language": "python",
   "name": "python2"
  },
  "language_info": {
   "codemirror_mode": {
    "name": "ipython",
    "version": 2
   },
   "file_extension": ".py",
   "mimetype": "text/x-python",
   "name": "python",
   "nbconvert_exporter": "python",
   "pygments_lexer": "ipython2",
   "version": "2.7.13"
  }
 },
 "nbformat": 4,
 "nbformat_minor": 2
}
