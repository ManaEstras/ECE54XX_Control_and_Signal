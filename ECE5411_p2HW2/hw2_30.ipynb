{
 "cells": [
  {
   "cell_type": "code",
   "execution_count": 5,
   "metadata": {},
   "outputs": [
    {
     "name": "stdout",
     "output_type": "stream",
     "text": [
      "theta1,2 mean & variance\n",
      "1.19793457885 0.000878262213726\n",
      "-0.198914428455 0.000866534570542\n",
      "bias\n",
      "5.44443010711e-06\n"
     ]
    }
   ],
   "source": [
    "from cvxpy import *\n",
    "import numpy as np\n",
    "import random\n",
    "import math\n",
    "#Classic LS\n",
    "\n",
    "N = 1000;\n",
    "theta = [1.2,-0.2];\n",
    "thetahat1 = [];\n",
    "thetahat2 = [];\n",
    "for i in range(100):\n",
    "    y = np.ones([1,N+2]);\n",
    "    Fi = np.ones([N,2]);\n",
    "\n",
    "#Data Prepartion\n",
    "    for ind in range(2,N+1):\n",
    "        y[:,ind] =y[:,ind-1] * theta[0] + y[:,ind-2] * theta[1] + np.random.laplace(0,1/math.sqrt(2));\n",
    "        Fi[ind-2,:] = [y[:,ind-1], y[:,ind-2]];\n",
    "    \n",
    "    Y = y[:,2:].reshape([1000,1])\n",
    "\n",
    "    alpha = 0.1;\n",
    "    lam = 0.1;\n",
    "\n",
    "    thetahat = Variable(2)\n",
    "    objective = Minimize(sum_squares(Fi*thetahat - Y))\n",
    "    constraints = []\n",
    "    prob = Problem(objective, constraints)\n",
    "    result = prob.solve()\n",
    "    thetahat1.append(thetahat.value[0])\n",
    "    thetahat2.append(thetahat.value[1])\n",
    "print 'theta1,2 mean & variance'\n",
    "print np.mean(thetahat1),np.var(thetahat1)\n",
    "print np.mean(thetahat2),np.var(thetahat2)\n",
    "print 'bias'\n",
    "print (np.mean(thetahat1)-theta[0])*(np.mean(thetahat1)-theta[0])+(np.mean(thetahat2)-theta[1])*(np.mean(thetahat2)-theta[1])"
   ]
  },
  {
   "cell_type": "code",
   "execution_count": 9,
   "metadata": {},
   "outputs": [
    {
     "name": "stdout",
     "output_type": "stream",
     "text": [
      "theta1,2 mean & variance\n",
      "1.20619210661 0.000660757203679\n",
      "-0.206890115714 0.000650089954353\n",
      "bias\n",
      "8.58158788376e-05\n"
     ]
    }
   ],
   "source": [
    "from cvxpy import *\n",
    "import numpy as np\n",
    "import random\n",
    "import math\n",
    "#Classic LS\n",
    "\n",
    "N = 1000;\n",
    "theta = [1.2,-0.2];\n",
    "thetahat1 = [];\n",
    "thetahat2 = [];\n",
    "for i in range(10):\n",
    "    y = np.ones([1,N+2]);\n",
    "    Fi = np.ones([N,2]);\n",
    "\n",
    "#Data Prepartion\n",
    "    for ind in range(2,N+1):\n",
    "        y[:,ind] =y[:,ind-1] * theta[0] + y[:,ind-2] * theta[1] + np.random.laplace(0,1/math.sqrt(2));\n",
    "        Fi[ind-2,:] = [y[:,ind-1], y[:,ind-2]];\n",
    "    \n",
    "    Y = y[:,2:].reshape([1000,1])\n",
    "\n",
    "    alpha = 0.1;\n",
    "    lam = 0.1;\n",
    "\n",
    "    thetahat = Variable(2)\n",
    "    objective = Minimize(sum(abs(Fi*thetahat - Y)))\n",
    "    constraints = []\n",
    "    prob = Problem(objective, constraints)\n",
    "    result = prob.solve()\n",
    "    thetahat1.append(thetahat.value[0])\n",
    "    thetahat2.append(thetahat.value[1])\n",
    "print 'theta1,2 mean & variance'\n",
    "print np.mean(thetahat1),np.var(thetahat1)\n",
    "print np.mean(thetahat2),np.var(thetahat2)\n",
    "print 'bias'\n",
    "print (np.mean(thetahat1)-theta[0])*(np.mean(thetahat1)-theta[0])+(np.mean(thetahat2)-theta[1])*(np.mean(thetahat2)-theta[1])"
   ]
  },
  {
   "cell_type": "code",
   "execution_count": 6,
   "metadata": {},
   "outputs": [
    {
     "data": {
      "text/plain": [
       "Expression(AFFINE, UNKNOWN, (1000, 1))"
      ]
     },
     "execution_count": 6,
     "metadata": {},
     "output_type": "execute_result"
    }
   ],
   "source": [
    "Fi*thetahat - Y"
   ]
  },
  {
   "cell_type": "code",
   "execution_count": null,
   "metadata": {
    "collapsed": true
   },
   "outputs": [],
   "source": []
  }
 ],
 "metadata": {
  "kernelspec": {
   "display_name": "Python 2",
   "language": "python",
   "name": "python2"
  },
  "language_info": {
   "codemirror_mode": {
    "name": "ipython",
    "version": 2
   },
   "file_extension": ".py",
   "mimetype": "text/x-python",
   "name": "python",
   "nbconvert_exporter": "python",
   "pygments_lexer": "ipython2",
   "version": "2.7.13"
  }
 },
 "nbformat": 4,
 "nbformat_minor": 2
}
