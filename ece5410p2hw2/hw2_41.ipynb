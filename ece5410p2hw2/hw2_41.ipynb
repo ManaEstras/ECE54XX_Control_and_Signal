{
 "cells": [
  {
   "cell_type": "code",
   "execution_count": 2,
   "metadata": {},
   "outputs": [
    {
     "name": "stdout",
     "output_type": "stream",
     "text": [
      "[0.05, 0.15000000000000002, 0.25, 0.35, 0.45, 0.55, 0.65, 0.75, 0.8500000000000001, 0.9500000000000001]\n"
     ]
    }
   ],
   "source": [
    "#\n",
    "\n",
    "import random\n",
    "import math\n",
    "import numpy as np\n",
    "import matplotlib.pyplot as plt\n",
    "\n",
    "thetaSet = [float(i) / 10 + 0.05 for i in range(10)]\n",
    "def generateCost(theta):\n",
    "    p = thetaSet[theta - 1]\n",
    "    return np.random.binomial(1,p)\n",
    "#Cost generator with Parameter theta\n",
    "\n",
    "print thetaSet"
   ]
  },
  {
   "cell_type": "code",
   "execution_count": 3,
   "metadata": {},
   "outputs": [
    {
     "name": "stdout",
     "output_type": "stream",
     "text": [
      "**************Initialzation**********\n",
      "1\n",
      "[[0], [0], [0], [0], [1], [1], [0], [1], [1], [0]]\n",
      "**************Start Iteration**********\n",
      "****************10000Step**********\n",
      "[0.16666666666666666, 0.0, 0.16666666666666666, 0.2857142857142857, 0.33333333333333331, 0.5, 0.78787878787878785, 0.69565217391304346, 0.80555555555555558, 0.92063492063492058]\n",
      "****************Pi_n**********\n",
      "[0.03, 0.025, 0.03, 0.035, 0.045, 0.06, 0.165, 0.115, 0.18, 0.315]\n",
      "****************regret**********\n",
      "9.276\n"
     ]
    },
    {
     "data": {
      "image/png": "[encoded data removed]",
      "text/plain": [
       "<matplotlib.figure.Figure at 0x10e985510>"
      ]
     },
     "metadata": {},
     "output_type": "display_data"
    }
   ],
   "source": [
    "#UCB\n",
    "\n",
    "#The Initialzation\n",
    "\n",
    "Xi = 1.2\n",
    "print '**************Initialzation**********'\n",
    "\n",
    "c1 = map(generateCost,range(1,11))  # Generate c1(theta)\n",
    "costRecord = [[c1[i]] for i in range(10)]\n",
    "costRecordMean = map(np.mean,costRecord) # Compute c_hat_theta_n\n",
    "m = map(len,costRecord) #Compute m_theta_n\n",
    "B = max(np.array(costRecord).flatten())\n",
    "print B\n",
    "print costRecord\n",
    "print '**************Start Iteration**********'\n",
    "\n",
    "print '****************10000Step**********'\n",
    "thetaOpt = [];\n",
    "thetaGlobal = [];\n",
    "N = 200\n",
    "stepRange = range(10,N)\n",
    "for n in stepRange:\n",
    "    steplist = map(lambda x: costRecordMean[x] + B*math.sqrt(Xi * math.log(n)/m[x]),xrange(10))\n",
    "    #thetaOptn, maxone = max(enumerate(map(lambda x: costRecordMean[x] + B*math.sqrt(Xi * math.log(n)/m[x]),xrange(10))));\n",
    "    thetaOptn = steplist.index(max(steplist)) #find the max of costRecordMean[x] + B*math.sqrt(Xi * math.log(n)/m[x])\n",
    "    thetaOpt.append(thetaOptn+1)\n",
    "    costn = generateCost(thetaOptn+1) #Compute the cost of step n\n",
    "    costRecord[thetaOptn].append(costn)\n",
    "    \n",
    "    #update c_hat_theta_n, m_theta_n, B\n",
    "    \n",
    "    costRecordMean = map(np.mean,costRecord) # Compute c_hat_theta_n\n",
    "    m = map(len,costRecord) #Compute m_theta_n\n",
    "    B = max(np.array(costRecord).flatten())[0]\n",
    "    thetaGn = costRecordMean.index(max(costRecordMean))\n",
    "    thetaGlobal.append(thetaGn+1)\n",
    "    \n",
    "print costRecordMean\n",
    "\n",
    "print '****************Pi_n**********'\n",
    "pi_m = [(float(i) / N) for i in m]\n",
    "print pi_m\n",
    "print '****************regret**********'\n",
    "regret = (thetaGlobal[-1]  - sum([(pi_m[i] * thetaSet[i]) for i in range(10)]))\n",
    "print regret\n",
    "\n",
    "plt.plot(stepRange,thetaGlobal,'bx-')\n",
    "plt.plot(stepRange,thetaOpt,'r*')\n",
    "\n",
    "plt.xlabel('step')\n",
    "plt.ylabel(u'thetaOpt')\n",
    "plt.title(u'thetaOpt')\n",
    "plt.show()"
   ]
  },
  {
   "cell_type": "code",
   "execution_count": null,
   "metadata": {
    "collapsed": true
   },
   "outputs": [],
   "source": []
  },
  {
   "cell_type": "code",
   "execution_count": 4,
   "metadata": {
    "collapsed": true
   },
   "outputs": [],
   "source": [
    "def binomialKi(p,q):\n",
    "    if p == 0: \n",
    "        return(1-p)*math.log((1-p)/(1-q),2)\n",
    "    if p == 1:\n",
    "        return p*math.log(p/q,2)\n",
    "    return p*math.log(p/q,2) + (1-p)*math.log((1-p)/(1-q),2)\n",
    "\n",
    "\n",
    "qrange = [0.99 - float(i)/100 for i in range(100)] #the testing range of q\n",
    "# Find the maximum q\n",
    "def B_a_t(i,n,emperical):\n",
    "    for q in qrange:\n",
    "        Ki = binomialKi(emperical[i],q)\n",
    "        if Ki < math.log(n,500):return q"
   ]
  },
  {
   "cell_type": "code",
   "execution_count": null,
   "metadata": {
    "collapsed": true
   },
   "outputs": [],
   "source": []
  },
  {
   "cell_type": "code",
   "execution_count": 8,
   "metadata": {},
   "outputs": [
    {
     "name": "stdout",
     "output_type": "stream",
     "text": [
      "**************Start Iteration**********\n",
      "****************10000Step**********\n",
      "[0.0, 0.0, 0.5, 0.0, 0.0, 0.5, 0.5, 0.75, 0.5, 0.95625000000000004]\n",
      "****************Pi_n**********\n",
      "[1, 1, 2, 1, 1, 2, 2, 28, 2, 160]\n",
      "****************regret**********\n",
      "0.57\n"
     ]
    },
    {
     "data": {
      "image/png": "[encoded data removed]",
      "text/plain": [
       "<matplotlib.figure.Figure at 0x10e987750>"
      ]
     },
     "metadata": {},
     "output_type": "display_data"
    }
   ],
   "source": [
    "c1 = map(generateCost,range(1,11))  # Generate c1(theta)\n",
    "costRecord = [[c1[i]] for i in range(10)]\n",
    "costRecordMean = map(np.mean,costRecord) # Compute c_hat_theta_n\n",
    "m = map(len,costRecord) #Compute m_theta_n\n",
    "print '**************Start Iteration**********'\n",
    "\n",
    "print '****************10000Step**********'\n",
    "thetaOpt = [];\n",
    "thetaGlobal = [];\n",
    "N = 200\n",
    "stepRange = range(10,N)\n",
    "for n in stepRange:\n",
    "    steplist = map(lambda x: B_a_t(x,n,costRecordMean),xrange(10))  #compute B_a_t for each arm\n",
    "    thetaOptn = steplist.index(max(steplist)) #find the max of costRecordMean[x] + B*math.sqrt(Xi * math.log(n)/m[x])\n",
    "    thetaOpt.append(thetaOptn+1)\n",
    "    costn = generateCost(thetaOptn+1) #Compute the cost of step n\n",
    "    costRecord[thetaOptn].append(costn)\n",
    "    \n",
    "    #update c_hat_theta_n, m_theta_n, B\n",
    "    \n",
    "    costRecordMean = map(np.mean,costRecord) # Compute c_hat_theta_n\n",
    "    m = map(len,costRecord) #Compute m_theta_n\n",
    "    B = max(np.array(costRecord).flatten())[0]\n",
    "    thetaGn = costRecordMean.index(max(costRecordMean))\n",
    "    thetaGlobal.append(thetaGn+1)\n",
    "    \n",
    "print costRecordMean\n",
    "\n",
    "print '****************Pi_n**********'\n",
    "pi_m = [(float(i) / N) for i in m]\n",
    "print m\n",
    "print '****************regret**********'\n",
    "regret = (thetaGlobal[-1]  - sum([(pi_m[i] * (i+1)) for i in range(10)]))\n",
    "print regret\n",
    "\n",
    "plt.plot(stepRange,thetaGlobal,'bx-')\n",
    "plt.plot(stepRange,thetaOpt,'r*')\n",
    "plt.xlabel('step')\n",
    "plt.ylabel(u'thetaOpt')\n",
    "plt.title(u'thetaOpt')\n",
    "plt.show()"
   ]
  },
  {
   "cell_type": "code",
   "execution_count": null,
   "metadata": {
    "collapsed": true
   },
   "outputs": [],
   "source": []
  },
  {
   "cell_type": "code",
   "execution_count": null,
   "metadata": {
    "collapsed": true
   },
   "outputs": [],
   "source": []
  }
 ],
 "metadata": {
  "kernelspec": {
   "display_name": "Python 2",
   "language": "python",
   "name": "python2"
  },
  "language_info": {
   "codemirror_mode": {
    "name": "ipython",
    "version": 2
   },
   "file_extension": ".py",
   "mimetype": "text/x-python",
   "name": "python",
   "nbconvert_exporter": "python",
   "pygments_lexer": "ipython2",
   "version": "2.7.13"
  }
 },
 "nbformat": 4,
 "nbformat_minor": 2
}
